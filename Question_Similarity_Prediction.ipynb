{
  "nbformat": 4,
  "nbformat_minor": 0,
  "metadata": {
    "colab": {
      "provenance": [],
      "include_colab_link": true
    },
    "kernelspec": {
      "name": "python3",
      "display_name": "Python 3"
    },
    "language_info": {
      "name": "python"
    }
  },
  "cells": [
    {
      "cell_type": "markdown",
      "metadata": {
        "id": "view-in-github",
        "colab_type": "text"
      },
      "source": [
        "<a href=\"https://colab.research.google.com/github/BandiSriLakshmi/Question-Similarity-prediction/blob/main/Question_Similarity_Prediction.ipynb\" target=\"_parent\"><img src=\"https://colab.research.google.com/assets/colab-badge.svg\" alt=\"Open In Colab\"/></a>"
      ]
    },
    {
      "cell_type": "code",
      "execution_count": null,
      "metadata": {
        "id": "_EgRTvyqHAdl",
        "colab": {
          "base_uri": "https://localhost:8080/"
        },
        "outputId": "0d4d8503-4410-4062-f182-1ea63f789f44"
      },
      "outputs": [
        {
          "output_type": "stream",
          "name": "stdout",
          "text": [
            "Drive already mounted at /content/drive; to attempt to forcibly remount, call drive.mount(\"/content/drive\", force_remount=True).\n"
          ]
        }
      ],
      "source": [
        "from google.colab import drive\n",
        "drive.mount('/content/drive')"
      ]
    },
    {
      "cell_type": "markdown",
      "source": [
        "**Improting all the useful libraries and functions that are essential**"
      ],
      "metadata": {
        "id": "C5wTkIAcDcnw"
      }
    },
    {
      "cell_type": "markdown",
      "source": [
        "**Pandas** : It provides dataframes for handling structured data.\n",
        "\n",
        "**Numpy** :It supports numerical computations with arrays and matrices.\n",
        "\n",
        "//**Visualization**\n",
        "\n",
        "**Matplotlib.pyplot**:Used for data visualization like line plotting and histograms etc.\n",
        "\n",
        "**seaborn** : enhances visualizations.\n",
        "\n",
        "//**ML Tools**\n",
        "\n",
        "**train_test_split** : splits data into training and testing sets for model evaluation.\n",
        "\n",
        "**TfidfVectorizer** : converts text into numerical features using TF_IDF(Term frequency-inverse Document Frequency)\n",
        "\n",
        "**LogisticRegression** : predicts class probabilities.\n",
        "\n",
        "**accuracy_score** :evaluates model performance.\n",
        "\n",
        "**confusion_matrix** : assesses classfication errors.\n",
        "\n",
        "**classification_report** : detailed performance metrics for each class.\n",
        "\n",
        "**Pipeline** : simplifies code and avoids data leakage.\n",
        "\n",
        "//**NLP**\n",
        "\n",
        "**stopwords** : removed to focus on meaningful words in NLP tasks.\n",
        "\n",
        "**PorterStemmer** : normalizes text for better feature extraction.\n",
        "\n",
        "**nltk** : a library for NLP tasks. provides tools for text preprocessing.\n",
        "\n",
        "**re** : cleans text i.e remove punctuations, urls etc.\n",
        "\n",
        "**string** : helps in text cleaning i.e string punctuation."
      ],
      "metadata": {
        "id": "Svky6JK3D7eq"
      }
    },
    {
      "cell_type": "code",
      "source": [
        "import pandas as pd\n",
        "import numpy as np\n",
        "import matplotlib.pyplot as plt\n",
        "import seaborn as sns\n",
        "from sklearn.model_selection import train_test_split\n",
        "from sklearn.feature_extraction.text import TfidfVectorizer\n",
        "from sklearn.linear_model import LogisticRegression\n",
        "from sklearn.metrics import accuracy_score, confusion_matrix, classification_report\n",
        "from sklearn.pipeline import Pipeline\n",
        "from nltk.corpus import stopwords\n",
        "from nltk.stem import PorterStemmer\n",
        "import nltk\n",
        "import re\n",
        "import string"
      ],
      "metadata": {
        "id": "pepOawJW_Z9h"
      },
      "execution_count": null,
      "outputs": []
    },
    {
      "cell_type": "code",
      "source": [
        "# Load the dataset\n",
        "df = pd.read_csv('/content/questions.csv')"
      ],
      "metadata": {
        "id": "DPZprjOkHOvR"
      },
      "execution_count": null,
      "outputs": []
    },
    {
      "cell_type": "code",
      "source": [
        "# Display basic info\n",
        "print(df.info())\n",
        "print(df.head())"
      ],
      "metadata": {
        "id": "BxbCRYkhKSD2",
        "colab": {
          "base_uri": "https://localhost:8080/"
        },
        "outputId": "847b6636-16ff-4ac3-9ba6-2a47f381dd3d"
      },
      "execution_count": null,
      "outputs": [
        {
          "output_type": "stream",
          "name": "stdout",
          "text": [
            "<class 'pandas.core.frame.DataFrame'>\n",
            "RangeIndex: 404351 entries, 0 to 404350\n",
            "Data columns (total 6 columns):\n",
            " #   Column        Non-Null Count   Dtype \n",
            "---  ------        --------------   ----- \n",
            " 0   id            404351 non-null  int64 \n",
            " 1   qid1          404351 non-null  int64 \n",
            " 2   qid2          404351 non-null  int64 \n",
            " 3   question1     404350 non-null  object\n",
            " 4   question2     404349 non-null  object\n",
            " 5   is_duplicate  404351 non-null  int64 \n",
            "dtypes: int64(4), object(2)\n",
            "memory usage: 18.5+ MB\n",
            "None\n",
            "   id  qid1  qid2                                          question1  \\\n",
            "0   0     1     2  What is the step by step guide to invest in sh...   \n",
            "1   1     3     4  What is the story of Kohinoor (Koh-i-Noor) Dia...   \n",
            "2   2     5     6  How can I increase the speed of my internet co...   \n",
            "3   3     7     8  Why am I mentally very lonely? How can I solve...   \n",
            "4   4     9    10  Which one dissolve in water quikly sugar, salt...   \n",
            "\n",
            "                                           question2  is_duplicate  \n",
            "0  What is the step by step guide to invest in sh...             0  \n",
            "1  What would happen if the Indian government sto...             0  \n",
            "2  How can Internet speed be increased by hacking...             0  \n",
            "3  Find the remainder when [math]23^{24}[/math] i...             0  \n",
            "4            Which fish would survive in salt water?             0  \n"
          ]
        }
      ]
    },
    {
      "cell_type": "code",
      "source": [
        "# Check for null values in each column\n",
        "print(df.isnull().sum())"
      ],
      "metadata": {
        "id": "MxexMu5NK1rV",
        "colab": {
          "base_uri": "https://localhost:8080/"
        },
        "outputId": "46deb335-8b76-48e8-ec10-bc46987fdec0"
      },
      "execution_count": null,
      "outputs": [
        {
          "output_type": "stream",
          "name": "stdout",
          "text": [
            "id              0\n",
            "qid1            0\n",
            "qid2            0\n",
            "question1       1\n",
            "question2       2\n",
            "is_duplicate    0\n",
            "dtype: int64\n"
          ]
        }
      ]
    },
    {
      "cell_type": "code",
      "source": [
        "import nltk\n",
        "nltk.download('stopwords')\n",
        "def preprocess_text(text):\n",
        "    # Handle missing values: If text is NaN, return an empty string\n",
        "    if pd.isnull(text):\n",
        "        return ''\n",
        "        # 1. Convert to lowercase\n",
        "        text = text.lower()\n",
        "        # 2. Remove URLs\n",
        "        text = re.sub(r\"http\\S+|www\\S+|https\\S+\", '', text, flags=re.MULTILINE)\n",
        "        # 3. Remove punctuation\n",
        "        text = \"\".join([char for char in text if char not in string.punctuation])\n",
        "        # 4. Remove numbers\n",
        "        text = re.sub(r'\\d+', '', text)\n",
        "        # 5. Remove stop words\n",
        "        text = \" \".join([word for word in text.split() if word not in stopwords.words(\"english\")])\n",
        "        # 6. Stemming\n",
        "        stemmer = PorterStemmer()\n",
        "        text = \" \".join([stemmer.stem(word) for word in text.split()])\n",
        "        return text\n",
        "# Fill NaN values in 'question1' and 'question2' with empty strings\n",
        "df['question1'] = df['question1'].fillna('')\n",
        "df['question2'] = df['question2'].fillna('')\n",
        "# Apply preprocessing to 'question1' and 'question2' columns\n",
        "df['question1'] = df['question1'].apply(preprocess_text)\n",
        "df['question2'] = df['question2'].apply(preprocess_text)\n",
        "print(df.head())"
      ],
      "metadata": {
        "id": "TWMjAhzpHhAs",
        "colab": {
          "base_uri": "https://localhost:8080/"
        },
        "outputId": "acd74d00-ac11-4f55-92fe-ec0f81dda47b"
      },
      "execution_count": null,
      "outputs": [
        {
          "output_type": "stream",
          "name": "stderr",
          "text": [
            "[nltk_data] Downloading package stopwords to /root/nltk_data...\n",
            "[nltk_data]   Package stopwords is already up-to-date!\n"
          ]
        },
        {
          "output_type": "stream",
          "name": "stdout",
          "text": [
            "   id  qid1  qid2 question1 question2  is_duplicate\n",
            "0   0     1     2      None      None             0\n",
            "1   1     3     4      None      None             0\n",
            "2   2     5     6      None      None             0\n",
            "3   3     7     8      None      None             0\n",
            "4   4     9    10      None      None             0\n"
          ]
        }
      ]
    },
    {
      "cell_type": "code",
      "source": [
        "# Check for null values in each column\n",
        "print(df.isnull().sum())"
      ],
      "metadata": {
        "colab": {
          "base_uri": "https://localhost:8080/"
        },
        "id": "c-H4i_TCTQqH",
        "outputId": "71be84e1-817c-44da-95ad-0777fdbab8e5"
      },
      "execution_count": null,
      "outputs": [
        {
          "output_type": "stream",
          "name": "stdout",
          "text": [
            "id                   0\n",
            "qid1                 0\n",
            "qid2                 0\n",
            "question1       404351\n",
            "question2       404351\n",
            "is_duplicate         0\n",
            "dtype: int64\n"
          ]
        }
      ]
    },
    {
      "cell_type": "code",
      "source": [
        "stop_words = set(stopwords.words('english'))\n",
        "stemmer = PorterStemmer()\n",
        "# Preprocess 'question1' and 'question2' columns\n",
        "df['processed_q1'] = df['question1'].apply(preprocess_text)\n",
        "df['processed_q2'] = df['question2'].apply(preprocess_text)\n",
        "# Now you can call create_features\n",
        "def create_features(df):\n",
        "# Jaccard similarity with handling for ZeroDivisionError\n",
        "    df['jaccard_sim'] = df.apply(lambda x: len(set(x['processed_q1'].split()) & set(x['processed_q2'].split())) /\n",
        "                            (len(set(x['processed_q1'].split()) | set(x['processed_q2'].split())) or 1),\n",
        "                                    axis=1)  # Use 'or 1' to avoid division by zero\n",
        "    return df"
      ],
      "metadata": {
        "id": "pKPQyq8LHjpg"
      },
      "execution_count": null,
      "outputs": []
    },
    {
      "cell_type": "code",
      "source": [
        "# Combine questions for TF-IDF\n",
        "questions = list(df['processed_q1']) + list(df['processed_q2'])\n",
        "tfidf = TfidfVectorizer(max_features=3000)\n",
        "tfidf.fit(questions)\n",
        "# Transform questions to TF-IDF vectors\n",
        "q1_tfidf = tfidf.transform(df['processed_q1'])\n",
        "q2_tfidf = tfidf.transform(df['processed_q2'])\n",
        "def create_features(df):\n",
        "    # Calculate word count difference\n",
        "    df['word_count_diff'] = df.apply(lambda x: abs(len(x['processed_q1'].split()) - len(x['processed_q2'].split())), axis=1)\n",
        "    # Calculate common words\n",
        "    df['common_words'] = df.apply(lambda x: len(set(x['processed_q1'].split()) & set(x['processed_q2'].split())), axis=1)\n",
        "   # Jaccard similarity with handling for ZeroDivisionError\n",
        "    df['jaccard_sim'] = df.apply(lambda x: len(set(x['processed_q1'].split()) & set(x['processed_q2'].split())) /\n",
        "                                    (len(set(x['processed_q1'].split()) | set(x['processed_q2'].split())) or 1),\n",
        "                                    axis=1)  # Use 'or 1' to avoid division by zero\n",
        "    return df\n",
        "# Call create_features to add 'jaccard_sim', 'word_count_diff', and 'common_words' columns\n",
        "df = create_features(df)  # This should be called before creating X\n",
        "\n",
        "# Now create feature vectors by combining TF-IDF and engineered features\n",
        "from scipy.sparse import hstack\n",
        "\n",
        "X = hstack((q1_tfidf, q2_tfidf,\n",
        "            np.array(df['word_count_diff']).reshape(-1, 1),\n",
        "            np.array(df['common_words']).reshape(-1, 1),\n",
        "            np.array(df['jaccard_sim']).reshape(-1, 1)))\n",
        "\n",
        "y = df['is_duplicate']\n",
        "\n",
        "# Split data into train and test sets\n",
        "X_train, X_test, y_train, y_test = train_test_split(X, y, test_size=0.2, random_state=42, stratify=y)"
      ],
      "metadata": {
        "id": "C0O18p4PHlaq",
        "colab": {
          "base_uri": "https://localhost:8080/",
          "height": 391
        },
        "outputId": "f4bba01e-0198-4144-a5df-8d6b48257173"
      },
      "execution_count": null,
      "outputs": [
        {
          "output_type": "error",
          "ename": "ValueError",
          "evalue": "empty vocabulary; perhaps the documents only contain stop words",
          "traceback": [
            "\u001b[0;31m---------------------------------------------------------------------------\u001b[0m",
            "\u001b[0;31mValueError\u001b[0m                                Traceback (most recent call last)",
            "\u001b[0;32m<ipython-input-21-f00492f80353>\u001b[0m in \u001b[0;36m<cell line: 0>\u001b[0;34m()\u001b[0m\n\u001b[1;32m      2\u001b[0m \u001b[0mquestions\u001b[0m \u001b[0;34m=\u001b[0m \u001b[0mlist\u001b[0m\u001b[0;34m(\u001b[0m\u001b[0mdf\u001b[0m\u001b[0;34m[\u001b[0m\u001b[0;34m'processed_q1'\u001b[0m\u001b[0;34m]\u001b[0m\u001b[0;34m)\u001b[0m \u001b[0;34m+\u001b[0m \u001b[0mlist\u001b[0m\u001b[0;34m(\u001b[0m\u001b[0mdf\u001b[0m\u001b[0;34m[\u001b[0m\u001b[0;34m'processed_q2'\u001b[0m\u001b[0;34m]\u001b[0m\u001b[0;34m)\u001b[0m\u001b[0;34m\u001b[0m\u001b[0;34m\u001b[0m\u001b[0m\n\u001b[1;32m      3\u001b[0m \u001b[0mtfidf\u001b[0m \u001b[0;34m=\u001b[0m \u001b[0mTfidfVectorizer\u001b[0m\u001b[0;34m(\u001b[0m\u001b[0mmax_features\u001b[0m\u001b[0;34m=\u001b[0m\u001b[0;36m3000\u001b[0m\u001b[0;34m)\u001b[0m\u001b[0;34m\u001b[0m\u001b[0;34m\u001b[0m\u001b[0m\n\u001b[0;32m----> 4\u001b[0;31m \u001b[0mtfidf\u001b[0m\u001b[0;34m.\u001b[0m\u001b[0mfit\u001b[0m\u001b[0;34m(\u001b[0m\u001b[0mquestions\u001b[0m\u001b[0;34m)\u001b[0m\u001b[0;34m\u001b[0m\u001b[0;34m\u001b[0m\u001b[0m\n\u001b[0m\u001b[1;32m      5\u001b[0m \u001b[0;31m# Transform questions to TF-IDF vectors\u001b[0m\u001b[0;34m\u001b[0m\u001b[0;34m\u001b[0m\u001b[0m\n\u001b[1;32m      6\u001b[0m \u001b[0mq1_tfidf\u001b[0m \u001b[0;34m=\u001b[0m \u001b[0mtfidf\u001b[0m\u001b[0;34m.\u001b[0m\u001b[0mtransform\u001b[0m\u001b[0;34m(\u001b[0m\u001b[0mdf\u001b[0m\u001b[0;34m[\u001b[0m\u001b[0;34m'processed_q1'\u001b[0m\u001b[0;34m]\u001b[0m\u001b[0;34m)\u001b[0m\u001b[0;34m\u001b[0m\u001b[0;34m\u001b[0m\u001b[0m\n",
            "\u001b[0;32m/usr/local/lib/python3.11/dist-packages/sklearn/base.py\u001b[0m in \u001b[0;36mwrapper\u001b[0;34m(estimator, *args, **kwargs)\u001b[0m\n\u001b[1;32m   1387\u001b[0m                 )\n\u001b[1;32m   1388\u001b[0m             ):\n\u001b[0;32m-> 1389\u001b[0;31m                 \u001b[0;32mreturn\u001b[0m \u001b[0mfit_method\u001b[0m\u001b[0;34m(\u001b[0m\u001b[0mestimator\u001b[0m\u001b[0;34m,\u001b[0m \u001b[0;34m*\u001b[0m\u001b[0margs\u001b[0m\u001b[0;34m,\u001b[0m \u001b[0;34m**\u001b[0m\u001b[0mkwargs\u001b[0m\u001b[0;34m)\u001b[0m\u001b[0;34m\u001b[0m\u001b[0;34m\u001b[0m\u001b[0m\n\u001b[0m\u001b[1;32m   1390\u001b[0m \u001b[0;34m\u001b[0m\u001b[0m\n\u001b[1;32m   1391\u001b[0m         \u001b[0;32mreturn\u001b[0m \u001b[0mwrapper\u001b[0m\u001b[0;34m\u001b[0m\u001b[0;34m\u001b[0m\u001b[0m\n",
            "\u001b[0;32m/usr/local/lib/python3.11/dist-packages/sklearn/feature_extraction/text.py\u001b[0m in \u001b[0;36mfit\u001b[0;34m(self, raw_documents, y)\u001b[0m\n\u001b[1;32m   2072\u001b[0m             \u001b[0msublinear_tf\u001b[0m\u001b[0;34m=\u001b[0m\u001b[0mself\u001b[0m\u001b[0;34m.\u001b[0m\u001b[0msublinear_tf\u001b[0m\u001b[0;34m,\u001b[0m\u001b[0;34m\u001b[0m\u001b[0;34m\u001b[0m\u001b[0m\n\u001b[1;32m   2073\u001b[0m         )\n\u001b[0;32m-> 2074\u001b[0;31m         \u001b[0mX\u001b[0m \u001b[0;34m=\u001b[0m \u001b[0msuper\u001b[0m\u001b[0;34m(\u001b[0m\u001b[0;34m)\u001b[0m\u001b[0;34m.\u001b[0m\u001b[0mfit_transform\u001b[0m\u001b[0;34m(\u001b[0m\u001b[0mraw_documents\u001b[0m\u001b[0;34m)\u001b[0m\u001b[0;34m\u001b[0m\u001b[0;34m\u001b[0m\u001b[0m\n\u001b[0m\u001b[1;32m   2075\u001b[0m         \u001b[0mself\u001b[0m\u001b[0;34m.\u001b[0m\u001b[0m_tfidf\u001b[0m\u001b[0;34m.\u001b[0m\u001b[0mfit\u001b[0m\u001b[0;34m(\u001b[0m\u001b[0mX\u001b[0m\u001b[0;34m)\u001b[0m\u001b[0;34m\u001b[0m\u001b[0;34m\u001b[0m\u001b[0m\n\u001b[1;32m   2076\u001b[0m         \u001b[0;32mreturn\u001b[0m \u001b[0mself\u001b[0m\u001b[0;34m\u001b[0m\u001b[0;34m\u001b[0m\u001b[0m\n",
            "\u001b[0;32m/usr/local/lib/python3.11/dist-packages/sklearn/base.py\u001b[0m in \u001b[0;36mwrapper\u001b[0;34m(estimator, *args, **kwargs)\u001b[0m\n\u001b[1;32m   1387\u001b[0m                 )\n\u001b[1;32m   1388\u001b[0m             ):\n\u001b[0;32m-> 1389\u001b[0;31m                 \u001b[0;32mreturn\u001b[0m \u001b[0mfit_method\u001b[0m\u001b[0;34m(\u001b[0m\u001b[0mestimator\u001b[0m\u001b[0;34m,\u001b[0m \u001b[0;34m*\u001b[0m\u001b[0margs\u001b[0m\u001b[0;34m,\u001b[0m \u001b[0;34m**\u001b[0m\u001b[0mkwargs\u001b[0m\u001b[0;34m)\u001b[0m\u001b[0;34m\u001b[0m\u001b[0;34m\u001b[0m\u001b[0m\n\u001b[0m\u001b[1;32m   1390\u001b[0m \u001b[0;34m\u001b[0m\u001b[0m\n\u001b[1;32m   1391\u001b[0m         \u001b[0;32mreturn\u001b[0m \u001b[0mwrapper\u001b[0m\u001b[0;34m\u001b[0m\u001b[0;34m\u001b[0m\u001b[0m\n",
            "\u001b[0;32m/usr/local/lib/python3.11/dist-packages/sklearn/feature_extraction/text.py\u001b[0m in \u001b[0;36mfit_transform\u001b[0;34m(self, raw_documents, y)\u001b[0m\n\u001b[1;32m   1374\u001b[0m                     \u001b[0;32mbreak\u001b[0m\u001b[0;34m\u001b[0m\u001b[0;34m\u001b[0m\u001b[0m\n\u001b[1;32m   1375\u001b[0m \u001b[0;34m\u001b[0m\u001b[0m\n\u001b[0;32m-> 1376\u001b[0;31m         \u001b[0mvocabulary\u001b[0m\u001b[0;34m,\u001b[0m \u001b[0mX\u001b[0m \u001b[0;34m=\u001b[0m \u001b[0mself\u001b[0m\u001b[0;34m.\u001b[0m\u001b[0m_count_vocab\u001b[0m\u001b[0;34m(\u001b[0m\u001b[0mraw_documents\u001b[0m\u001b[0;34m,\u001b[0m \u001b[0mself\u001b[0m\u001b[0;34m.\u001b[0m\u001b[0mfixed_vocabulary_\u001b[0m\u001b[0;34m)\u001b[0m\u001b[0;34m\u001b[0m\u001b[0;34m\u001b[0m\u001b[0m\n\u001b[0m\u001b[1;32m   1377\u001b[0m \u001b[0;34m\u001b[0m\u001b[0m\n\u001b[1;32m   1378\u001b[0m         \u001b[0;32mif\u001b[0m \u001b[0mself\u001b[0m\u001b[0;34m.\u001b[0m\u001b[0mbinary\u001b[0m\u001b[0;34m:\u001b[0m\u001b[0;34m\u001b[0m\u001b[0;34m\u001b[0m\u001b[0m\n",
            "\u001b[0;32m/usr/local/lib/python3.11/dist-packages/sklearn/feature_extraction/text.py\u001b[0m in \u001b[0;36m_count_vocab\u001b[0;34m(self, raw_documents, fixed_vocab)\u001b[0m\n\u001b[1;32m   1280\u001b[0m             \u001b[0mvocabulary\u001b[0m \u001b[0;34m=\u001b[0m \u001b[0mdict\u001b[0m\u001b[0;34m(\u001b[0m\u001b[0mvocabulary\u001b[0m\u001b[0;34m)\u001b[0m\u001b[0;34m\u001b[0m\u001b[0;34m\u001b[0m\u001b[0m\n\u001b[1;32m   1281\u001b[0m             \u001b[0;32mif\u001b[0m \u001b[0;32mnot\u001b[0m \u001b[0mvocabulary\u001b[0m\u001b[0;34m:\u001b[0m\u001b[0;34m\u001b[0m\u001b[0;34m\u001b[0m\u001b[0m\n\u001b[0;32m-> 1282\u001b[0;31m                 raise ValueError(\n\u001b[0m\u001b[1;32m   1283\u001b[0m                     \u001b[0;34m\"empty vocabulary; perhaps the documents only contain stop words\"\u001b[0m\u001b[0;34m\u001b[0m\u001b[0;34m\u001b[0m\u001b[0m\n\u001b[1;32m   1284\u001b[0m                 )\n",
            "\u001b[0;31mValueError\u001b[0m: empty vocabulary; perhaps the documents only contain stop words"
          ]
        }
      ]
    },
    {
      "source": [
        "import nltk\n",
        "nltk.download('stopwords')\n",
        "\n",
        "def preprocess_text(text):\n",
        "    # Handle missing values: If text is NaN, return an empty string\n",
        "    if pd.isnull(text):\n",
        "        return ''\n",
        "\n",
        "    # 1. Convert to lowercase\n",
        "    text = text.lower()\n",
        "    # 2. Remove URLs\n",
        "    text = re.sub(r\"http\\S+|www\\S+|https\\S+\", '', text, flags=re.MULTILINE)\n",
        "    # 3. Remove punctuation\n",
        "    text = \"\".join([char for char in text if char not in string.punctuation])\n",
        "    # 4. Remove numbers\n",
        "    text = re.sub(r'\\d+', '', text)\n",
        "    # 5. Remove stop words\n",
        "    # Updated stop word removal to keep some words that might be important\n",
        "    stop_words = set(stopwords.words(\"english\")) - {'not', 'no', 'can', 'cannot', 'could', 'would', 'should', 'might', 'must'}\n",
        "    text = \" \".join([word for word in text.split() if word not in stop_words])\n",
        "    # 6. Stemming\n",
        "    stemmer = PorterStemmer()\n",
        "    text = \" \".join([stemmer.stem(word) for word in text.split()])\n",
        "\n",
        "    return text\n",
        "\n",
        "# ... (Rest of your code remains the same)"
      ],
      "cell_type": "code",
      "metadata": {
        "colab": {
          "base_uri": "https://localhost:8080/"
        },
        "id": "U1Nw87bFQPdn",
        "outputId": "a804d585-c72e-4790-bdaa-36f4419db2e8"
      },
      "execution_count": null,
      "outputs": [
        {
          "output_type": "stream",
          "name": "stderr",
          "text": [
            "[nltk_data] Downloading package stopwords to /root/nltk_data...\n",
            "[nltk_data]   Package stopwords is already up-to-date!\n"
          ]
        }
      ]
    },
    {
      "source": [
        "import pandas as pd\n",
        "import numpy as np\n",
        "import matplotlib.pyplot as plt\n",
        "import seaborn as sns\n",
        "from sklearn.model_selection import train_test_split\n",
        "from sklearn.feature_extraction.text import TfidfVectorizer\n",
        "from sklearn.linear_model import LogisticRegression\n",
        "from sklearn.metrics import accuracy_score, confusion_matrix, classification_report\n",
        "from sklearn.pipeline import Pipeline\n",
        "from nltk.corpus import stopwords\n",
        "from nltk.stem import PorterStemmer\n",
        "import nltk\n",
        "import re\n",
        "import string\n",
        "from scipy.sparse import hstack\n",
        "\n",
        "# Download stopwords if not already downloaded\n",
        "nltk.download('stopwords')\n",
        "\n",
        "def preprocess_text(text):\n",
        "    # Handle missing values: If text is NaN, return an empty string\n",
        "    if pd.isnull(text):\n",
        "        return ''\n",
        "\n",
        "    # 1. Convert to lowercase\n",
        "    text = text.lower()\n",
        "    # 2. Remove URLs\n",
        "    text = re.sub(r\"http\\S+|www\\S+|https\\S+\", '', text, flags=re.MULTILINE)\n",
        "    # 3. Remove punctuation\n",
        "    text = \"\".join([char for char in text if char not in string.punctuation])\n",
        "    # 4. Remove numbers\n",
        "    text = re.sub(r'\\d+', '', text)\n",
        "    # 5. Remove stop words\n",
        "    # Updated stop word removal to keep some words that might be important\n",
        "    stop_words = set(stopwords.words(\"english\")) - {'not', 'no', 'can', 'cannot', 'could', 'would', 'should', 'might', 'must'}\n",
        "    text = \" \".join([word for word in text.split() if word not in stop_words])\n",
        "    # 6. Stemming\n",
        "    stemmer = PorterStemmer()\n",
        "    text = \" \".join([stemmer.stem(word) for word in text.split()])\n",
        "\n",
        "    return text\n",
        "\n",
        "# Load the dataset\n",
        "df = pd.read_csv('/content/questions.csv')\n",
        "\n",
        "# Fill NaN values in 'question1' and 'question2' with empty strings\n",
        "df['question1'] = df['question1'].fillna('')\n",
        "df['question2'] = df['question2'].fillna('')\n",
        "\n",
        "# Apply preprocessing to 'question1' and 'question2' columns\n",
        "df['question1'] = df['question1'].apply(preprocess_text)\n",
        "df['question2'] = df['question2'].apply(preprocess_text)\n",
        "\n",
        "# Create new columns for processed questions\n",
        "df['processed_q1'] = df['question1']\n",
        "df['processed_q2'] = df['question2']\n",
        "\n",
        "def create_features(df):\n",
        "    # Calculate word count difference\n",
        "    df['word_count_diff'] = df.apply(lambda x: abs(len(x['processed_q1'].split()) - len(x['processed_q2'].split())), axis=1)\n",
        "    # Calculate common words\n",
        "    df['common_words'] = df.apply(lambda x: len(set(x['processed_q1'].split()) & set(x['processed_q2'].split())), axis=1)\n",
        "    # Jaccard similarity with handling for ZeroDivisionError\n",
        "    df['jaccard_sim'] = df.apply(lambda x: len(set(x['processed_q1'].split()) & set(x['processed_q2'].split())) /\n",
        "                                    (len(set(x['processed_q1'].split()) | set(x['processed_q2'].split())) or 1),\n",
        "                                    axis=1)  # Use 'or 1' to avoid division by zero\n",
        "    return df\n",
        "\n",
        "# Call create_features to add features\n",
        "df = create_features(df)\n",
        "\n",
        "# Combine questions for TF-IDF\n",
        "questions = list(df['processed_q1']) + list(df['processed_q2'])\n",
        "tfidf = TfidfVectorizer(max_features=5000) # Increased max_features\n",
        "tfidf.fit(questions)\n",
        "\n",
        "# Transform questions to TF-IDF vectors\n",
        "q1_tfidf = tfidf.transform(df['processed_q1'])\n",
        "q2_tfidf = tfidf.transform(df['processed_q2'])\n",
        "\n",
        "# Now create feature vectors by combining TF-IDF and engineered features\n",
        "X = hstack((q1_tfidf, q2_tfidf,\n",
        "            np.array(df['word_count_diff']).reshape(-1, 1),\n",
        "            np.array(df['common_words']).reshape(-1, 1),\n",
        "            np.array(df['jaccard_sim']).reshape(-1, 1)))\n",
        "\n",
        "y = df['is_duplicate']\n",
        "\n",
        "# Split data into train and test sets\n",
        "X_train, X_test, y_train, y_test = train_test_split(X, y, test_size=0.2, random_state=42, stratify=y)\n",
        "\n",
        "# Initialize and train logistic regression model\n",
        "model = LogisticRegression(class_weight='balanced', max_iter=1000)\n",
        "model.fit(X_train, y_train)\n",
        "\n",
        "# Predict on test set\n",
        "y_pred = model.predict(X_test)\n",
        "\n",
        "# Evaluate model\n",
        "print(\"Accuracy:\", accuracy_score(y_test, y_pred))\n",
        "print(\"\\nConfusion Matrix:\\n\", confusion_matrix(y_test, y_pred))\n",
        "print(\"\\nClassification Report:\\n\", classification_report(y_test, y_pred))\n",
        "\n",
        "# Function to predict similarity\n",
        "def predict_similarity(question1, question2):\n",
        "    # Preprocess the questions\n",
        "    q1_processed = preprocess_text(question1)\n",
        "    q2_processed = preprocess_text(question2)\n",
        "\n",
        "    # TF-IDF transformation\n",
        "    q1_tfidf = tfidf.transform([q1_processed])\n",
        "    q2_tfidf = tfidf.transform([q2_processed])\n",
        "\n",
        "    # Create features\n",
        "    word_count_diff = abs(len(q1_processed.split()) - len(q2_processed.split()))\n",
        "    common_words = len(set(q1_processed.split()) & set(q2_processed.split()))\n",
        "    jaccard_sim = common_words / (len(set(q1_processed.split()) | set(q2_processed.split())) or 1) # Avoiding division by zero\n",
        "\n",
        "    # Combine features\n",
        "    features = hstack((q1_tfidf, q2_tfidf,\n",
        "                      np.array([word_count_diff]).reshape(-1, 1),\n",
        "                      np.array([common_words]).reshape(-1, 1),\n",
        "                      np.array([jaccard_sim]).reshape(-1, 1)))\n",
        "\n",
        "    # Predict\n",
        "    prediction = model.predict(features)[0]\n",
        "\n",
        "    return \"Similar\" if prediction == 1 else \"Not Similar\"\n",
        "\n",
        "# Example usage\n",
        "question1 = \"What is the capital of France?\"\n",
        "question2 = \"Which city is the capital of France?\"\n",
        "\n",
        "result = predict_similarity(question1, question2)\n",
        "print(f\"\\nQuestion 1: {question1}\")\n",
        "print(f\"Question 2: {question2}\")\n",
        "print(f\"Prediction: {result}\")\n",
        "\n",
        "# ... (Other examples)"
      ],
      "cell_type": "code",
      "metadata": {
        "colab": {
          "base_uri": "https://localhost:8080/"
        },
        "id": "3XbwrBH839QP",
        "outputId": "e9f3733f-4adf-4c50-f465-d35221ec65f8"
      },
      "execution_count": null,
      "outputs": [
        {
          "output_type": "stream",
          "name": "stderr",
          "text": [
            "[nltk_data] Downloading package stopwords to /root/nltk_data...\n",
            "[nltk_data]   Package stopwords is already up-to-date!\n"
          ]
        },
        {
          "output_type": "stream",
          "name": "stdout",
          "text": [
            "Accuracy: 0.7715992135623401\n",
            "\n",
            "Confusion Matrix:\n",
            " [[39224 11786]\n",
            " [ 6685 23176]]\n",
            "\n",
            "Classification Report:\n",
            "               precision    recall  f1-score   support\n",
            "\n",
            "           0       0.85      0.77      0.81     51010\n",
            "           1       0.66      0.78      0.72     29861\n",
            "\n",
            "    accuracy                           0.77     80871\n",
            "   macro avg       0.76      0.77      0.76     80871\n",
            "weighted avg       0.78      0.77      0.77     80871\n",
            "\n",
            "\n",
            "Question 1: What is the capital of France?\n",
            "Question 2: Which city is the capital of France?\n",
            "Prediction: Not Similar\n"
          ]
        }
      ]
    },
    {
      "cell_type": "code",
      "source": [
        "# Initialize and train logistic regression model\n",
        "model = LogisticRegression(class_weight='balanced', max_iter=1000)\n",
        "model.fit(X_train, y_train)"
      ],
      "metadata": {
        "id": "JW7odia6HnSt",
        "colab": {
          "base_uri": "https://localhost:8080/",
          "height": 80
        },
        "outputId": "d9cce022-10bb-4205-fb7a-4a9ffc59960b"
      },
      "execution_count": null,
      "outputs": [
        {
          "output_type": "execute_result",
          "data": {
            "text/plain": [
              "LogisticRegression(class_weight='balanced', max_iter=1000)"
            ],
            "text/html": [
              "<style>#sk-container-id-2 {\n",
              "  /* Definition of color scheme common for light and dark mode */\n",
              "  --sklearn-color-text: #000;\n",
              "  --sklearn-color-text-muted: #666;\n",
              "  --sklearn-color-line: gray;\n",
              "  /* Definition of color scheme for unfitted estimators */\n",
              "  --sklearn-color-unfitted-level-0: #fff5e6;\n",
              "  --sklearn-color-unfitted-level-1: #f6e4d2;\n",
              "  --sklearn-color-unfitted-level-2: #ffe0b3;\n",
              "  --sklearn-color-unfitted-level-3: chocolate;\n",
              "  /* Definition of color scheme for fitted estimators */\n",
              "  --sklearn-color-fitted-level-0: #f0f8ff;\n",
              "  --sklearn-color-fitted-level-1: #d4ebff;\n",
              "  --sklearn-color-fitted-level-2: #b3dbfd;\n",
              "  --sklearn-color-fitted-level-3: cornflowerblue;\n",
              "\n",
              "  /* Specific color for light theme */\n",
              "  --sklearn-color-text-on-default-background: var(--sg-text-color, var(--theme-code-foreground, var(--jp-content-font-color1, black)));\n",
              "  --sklearn-color-background: var(--sg-background-color, var(--theme-background, var(--jp-layout-color0, white)));\n",
              "  --sklearn-color-border-box: var(--sg-text-color, var(--theme-code-foreground, var(--jp-content-font-color1, black)));\n",
              "  --sklearn-color-icon: #696969;\n",
              "\n",
              "  @media (prefers-color-scheme: dark) {\n",
              "    /* Redefinition of color scheme for dark theme */\n",
              "    --sklearn-color-text-on-default-background: var(--sg-text-color, var(--theme-code-foreground, var(--jp-content-font-color1, white)));\n",
              "    --sklearn-color-background: var(--sg-background-color, var(--theme-background, var(--jp-layout-color0, #111)));\n",
              "    --sklearn-color-border-box: var(--sg-text-color, var(--theme-code-foreground, var(--jp-content-font-color1, white)));\n",
              "    --sklearn-color-icon: #878787;\n",
              "  }\n",
              "}\n",
              "\n",
              "#sk-container-id-2 {\n",
              "  color: var(--sklearn-color-text);\n",
              "}\n",
              "\n",
              "#sk-container-id-2 pre {\n",
              "  padding: 0;\n",
              "}\n",
              "\n",
              "#sk-container-id-2 input.sk-hidden--visually {\n",
              "  border: 0;\n",
              "  clip: rect(1px 1px 1px 1px);\n",
              "  clip: rect(1px, 1px, 1px, 1px);\n",
              "  height: 1px;\n",
              "  margin: -1px;\n",
              "  overflow: hidden;\n",
              "  padding: 0;\n",
              "  position: absolute;\n",
              "  width: 1px;\n",
              "}\n",
              "\n",
              "#sk-container-id-2 div.sk-dashed-wrapped {\n",
              "  border: 1px dashed var(--sklearn-color-line);\n",
              "  margin: 0 0.4em 0.5em 0.4em;\n",
              "  box-sizing: border-box;\n",
              "  padding-bottom: 0.4em;\n",
              "  background-color: var(--sklearn-color-background);\n",
              "}\n",
              "\n",
              "#sk-container-id-2 div.sk-container {\n",
              "  /* jupyter's `normalize.less` sets `[hidden] { display: none; }`\n",
              "     but bootstrap.min.css set `[hidden] { display: none !important; }`\n",
              "     so we also need the `!important` here to be able to override the\n",
              "     default hidden behavior on the sphinx rendered scikit-learn.org.\n",
              "     See: https://github.com/scikit-learn/scikit-learn/issues/21755 */\n",
              "  display: inline-block !important;\n",
              "  position: relative;\n",
              "}\n",
              "\n",
              "#sk-container-id-2 div.sk-text-repr-fallback {\n",
              "  display: none;\n",
              "}\n",
              "\n",
              "div.sk-parallel-item,\n",
              "div.sk-serial,\n",
              "div.sk-item {\n",
              "  /* draw centered vertical line to link estimators */\n",
              "  background-image: linear-gradient(var(--sklearn-color-text-on-default-background), var(--sklearn-color-text-on-default-background));\n",
              "  background-size: 2px 100%;\n",
              "  background-repeat: no-repeat;\n",
              "  background-position: center center;\n",
              "}\n",
              "\n",
              "/* Parallel-specific style estimator block */\n",
              "\n",
              "#sk-container-id-2 div.sk-parallel-item::after {\n",
              "  content: \"\";\n",
              "  width: 100%;\n",
              "  border-bottom: 2px solid var(--sklearn-color-text-on-default-background);\n",
              "  flex-grow: 1;\n",
              "}\n",
              "\n",
              "#sk-container-id-2 div.sk-parallel {\n",
              "  display: flex;\n",
              "  align-items: stretch;\n",
              "  justify-content: center;\n",
              "  background-color: var(--sklearn-color-background);\n",
              "  position: relative;\n",
              "}\n",
              "\n",
              "#sk-container-id-2 div.sk-parallel-item {\n",
              "  display: flex;\n",
              "  flex-direction: column;\n",
              "}\n",
              "\n",
              "#sk-container-id-2 div.sk-parallel-item:first-child::after {\n",
              "  align-self: flex-end;\n",
              "  width: 50%;\n",
              "}\n",
              "\n",
              "#sk-container-id-2 div.sk-parallel-item:last-child::after {\n",
              "  align-self: flex-start;\n",
              "  width: 50%;\n",
              "}\n",
              "\n",
              "#sk-container-id-2 div.sk-parallel-item:only-child::after {\n",
              "  width: 0;\n",
              "}\n",
              "\n",
              "/* Serial-specific style estimator block */\n",
              "\n",
              "#sk-container-id-2 div.sk-serial {\n",
              "  display: flex;\n",
              "  flex-direction: column;\n",
              "  align-items: center;\n",
              "  background-color: var(--sklearn-color-background);\n",
              "  padding-right: 1em;\n",
              "  padding-left: 1em;\n",
              "}\n",
              "\n",
              "\n",
              "/* Toggleable style: style used for estimator/Pipeline/ColumnTransformer box that is\n",
              "clickable and can be expanded/collapsed.\n",
              "- Pipeline and ColumnTransformer use this feature and define the default style\n",
              "- Estimators will overwrite some part of the style using the `sk-estimator` class\n",
              "*/\n",
              "\n",
              "/* Pipeline and ColumnTransformer style (default) */\n",
              "\n",
              "#sk-container-id-2 div.sk-toggleable {\n",
              "  /* Default theme specific background. It is overwritten whether we have a\n",
              "  specific estimator or a Pipeline/ColumnTransformer */\n",
              "  background-color: var(--sklearn-color-background);\n",
              "}\n",
              "\n",
              "/* Toggleable label */\n",
              "#sk-container-id-2 label.sk-toggleable__label {\n",
              "  cursor: pointer;\n",
              "  display: flex;\n",
              "  width: 100%;\n",
              "  margin-bottom: 0;\n",
              "  padding: 0.5em;\n",
              "  box-sizing: border-box;\n",
              "  text-align: center;\n",
              "  align-items: start;\n",
              "  justify-content: space-between;\n",
              "  gap: 0.5em;\n",
              "}\n",
              "\n",
              "#sk-container-id-2 label.sk-toggleable__label .caption {\n",
              "  font-size: 0.6rem;\n",
              "  font-weight: lighter;\n",
              "  color: var(--sklearn-color-text-muted);\n",
              "}\n",
              "\n",
              "#sk-container-id-2 label.sk-toggleable__label-arrow:before {\n",
              "  /* Arrow on the left of the label */\n",
              "  content: \"▸\";\n",
              "  float: left;\n",
              "  margin-right: 0.25em;\n",
              "  color: var(--sklearn-color-icon);\n",
              "}\n",
              "\n",
              "#sk-container-id-2 label.sk-toggleable__label-arrow:hover:before {\n",
              "  color: var(--sklearn-color-text);\n",
              "}\n",
              "\n",
              "/* Toggleable content - dropdown */\n",
              "\n",
              "#sk-container-id-2 div.sk-toggleable__content {\n",
              "  max-height: 0;\n",
              "  max-width: 0;\n",
              "  overflow: hidden;\n",
              "  text-align: left;\n",
              "  /* unfitted */\n",
              "  background-color: var(--sklearn-color-unfitted-level-0);\n",
              "}\n",
              "\n",
              "#sk-container-id-2 div.sk-toggleable__content.fitted {\n",
              "  /* fitted */\n",
              "  background-color: var(--sklearn-color-fitted-level-0);\n",
              "}\n",
              "\n",
              "#sk-container-id-2 div.sk-toggleable__content pre {\n",
              "  margin: 0.2em;\n",
              "  border-radius: 0.25em;\n",
              "  color: var(--sklearn-color-text);\n",
              "  /* unfitted */\n",
              "  background-color: var(--sklearn-color-unfitted-level-0);\n",
              "}\n",
              "\n",
              "#sk-container-id-2 div.sk-toggleable__content.fitted pre {\n",
              "  /* unfitted */\n",
              "  background-color: var(--sklearn-color-fitted-level-0);\n",
              "}\n",
              "\n",
              "#sk-container-id-2 input.sk-toggleable__control:checked~div.sk-toggleable__content {\n",
              "  /* Expand drop-down */\n",
              "  max-height: 200px;\n",
              "  max-width: 100%;\n",
              "  overflow: auto;\n",
              "}\n",
              "\n",
              "#sk-container-id-2 input.sk-toggleable__control:checked~label.sk-toggleable__label-arrow:before {\n",
              "  content: \"▾\";\n",
              "}\n",
              "\n",
              "/* Pipeline/ColumnTransformer-specific style */\n",
              "\n",
              "#sk-container-id-2 div.sk-label input.sk-toggleable__control:checked~label.sk-toggleable__label {\n",
              "  color: var(--sklearn-color-text);\n",
              "  background-color: var(--sklearn-color-unfitted-level-2);\n",
              "}\n",
              "\n",
              "#sk-container-id-2 div.sk-label.fitted input.sk-toggleable__control:checked~label.sk-toggleable__label {\n",
              "  background-color: var(--sklearn-color-fitted-level-2);\n",
              "}\n",
              "\n",
              "/* Estimator-specific style */\n",
              "\n",
              "/* Colorize estimator box */\n",
              "#sk-container-id-2 div.sk-estimator input.sk-toggleable__control:checked~label.sk-toggleable__label {\n",
              "  /* unfitted */\n",
              "  background-color: var(--sklearn-color-unfitted-level-2);\n",
              "}\n",
              "\n",
              "#sk-container-id-2 div.sk-estimator.fitted input.sk-toggleable__control:checked~label.sk-toggleable__label {\n",
              "  /* fitted */\n",
              "  background-color: var(--sklearn-color-fitted-level-2);\n",
              "}\n",
              "\n",
              "#sk-container-id-2 div.sk-label label.sk-toggleable__label,\n",
              "#sk-container-id-2 div.sk-label label {\n",
              "  /* The background is the default theme color */\n",
              "  color: var(--sklearn-color-text-on-default-background);\n",
              "}\n",
              "\n",
              "/* On hover, darken the color of the background */\n",
              "#sk-container-id-2 div.sk-label:hover label.sk-toggleable__label {\n",
              "  color: var(--sklearn-color-text);\n",
              "  background-color: var(--sklearn-color-unfitted-level-2);\n",
              "}\n",
              "\n",
              "/* Label box, darken color on hover, fitted */\n",
              "#sk-container-id-2 div.sk-label.fitted:hover label.sk-toggleable__label.fitted {\n",
              "  color: var(--sklearn-color-text);\n",
              "  background-color: var(--sklearn-color-fitted-level-2);\n",
              "}\n",
              "\n",
              "/* Estimator label */\n",
              "\n",
              "#sk-container-id-2 div.sk-label label {\n",
              "  font-family: monospace;\n",
              "  font-weight: bold;\n",
              "  display: inline-block;\n",
              "  line-height: 1.2em;\n",
              "}\n",
              "\n",
              "#sk-container-id-2 div.sk-label-container {\n",
              "  text-align: center;\n",
              "}\n",
              "\n",
              "/* Estimator-specific */\n",
              "#sk-container-id-2 div.sk-estimator {\n",
              "  font-family: monospace;\n",
              "  border: 1px dotted var(--sklearn-color-border-box);\n",
              "  border-radius: 0.25em;\n",
              "  box-sizing: border-box;\n",
              "  margin-bottom: 0.5em;\n",
              "  /* unfitted */\n",
              "  background-color: var(--sklearn-color-unfitted-level-0);\n",
              "}\n",
              "\n",
              "#sk-container-id-2 div.sk-estimator.fitted {\n",
              "  /* fitted */\n",
              "  background-color: var(--sklearn-color-fitted-level-0);\n",
              "}\n",
              "\n",
              "/* on hover */\n",
              "#sk-container-id-2 div.sk-estimator:hover {\n",
              "  /* unfitted */\n",
              "  background-color: var(--sklearn-color-unfitted-level-2);\n",
              "}\n",
              "\n",
              "#sk-container-id-2 div.sk-estimator.fitted:hover {\n",
              "  /* fitted */\n",
              "  background-color: var(--sklearn-color-fitted-level-2);\n",
              "}\n",
              "\n",
              "/* Specification for estimator info (e.g. \"i\" and \"?\") */\n",
              "\n",
              "/* Common style for \"i\" and \"?\" */\n",
              "\n",
              ".sk-estimator-doc-link,\n",
              "a:link.sk-estimator-doc-link,\n",
              "a:visited.sk-estimator-doc-link {\n",
              "  float: right;\n",
              "  font-size: smaller;\n",
              "  line-height: 1em;\n",
              "  font-family: monospace;\n",
              "  background-color: var(--sklearn-color-background);\n",
              "  border-radius: 1em;\n",
              "  height: 1em;\n",
              "  width: 1em;\n",
              "  text-decoration: none !important;\n",
              "  margin-left: 0.5em;\n",
              "  text-align: center;\n",
              "  /* unfitted */\n",
              "  border: var(--sklearn-color-unfitted-level-1) 1pt solid;\n",
              "  color: var(--sklearn-color-unfitted-level-1);\n",
              "}\n",
              "\n",
              ".sk-estimator-doc-link.fitted,\n",
              "a:link.sk-estimator-doc-link.fitted,\n",
              "a:visited.sk-estimator-doc-link.fitted {\n",
              "  /* fitted */\n",
              "  border: var(--sklearn-color-fitted-level-1) 1pt solid;\n",
              "  color: var(--sklearn-color-fitted-level-1);\n",
              "}\n",
              "\n",
              "/* On hover */\n",
              "div.sk-estimator:hover .sk-estimator-doc-link:hover,\n",
              ".sk-estimator-doc-link:hover,\n",
              "div.sk-label-container:hover .sk-estimator-doc-link:hover,\n",
              ".sk-estimator-doc-link:hover {\n",
              "  /* unfitted */\n",
              "  background-color: var(--sklearn-color-unfitted-level-3);\n",
              "  color: var(--sklearn-color-background);\n",
              "  text-decoration: none;\n",
              "}\n",
              "\n",
              "div.sk-estimator.fitted:hover .sk-estimator-doc-link.fitted:hover,\n",
              ".sk-estimator-doc-link.fitted:hover,\n",
              "div.sk-label-container:hover .sk-estimator-doc-link.fitted:hover,\n",
              ".sk-estimator-doc-link.fitted:hover {\n",
              "  /* fitted */\n",
              "  background-color: var(--sklearn-color-fitted-level-3);\n",
              "  color: var(--sklearn-color-background);\n",
              "  text-decoration: none;\n",
              "}\n",
              "\n",
              "/* Span, style for the box shown on hovering the info icon */\n",
              ".sk-estimator-doc-link span {\n",
              "  display: none;\n",
              "  z-index: 9999;\n",
              "  position: relative;\n",
              "  font-weight: normal;\n",
              "  right: .2ex;\n",
              "  padding: .5ex;\n",
              "  margin: .5ex;\n",
              "  width: min-content;\n",
              "  min-width: 20ex;\n",
              "  max-width: 50ex;\n",
              "  color: var(--sklearn-color-text);\n",
              "  box-shadow: 2pt 2pt 4pt #999;\n",
              "  /* unfitted */\n",
              "  background: var(--sklearn-color-unfitted-level-0);\n",
              "  border: .5pt solid var(--sklearn-color-unfitted-level-3);\n",
              "}\n",
              "\n",
              ".sk-estimator-doc-link.fitted span {\n",
              "  /* fitted */\n",
              "  background: var(--sklearn-color-fitted-level-0);\n",
              "  border: var(--sklearn-color-fitted-level-3);\n",
              "}\n",
              "\n",
              ".sk-estimator-doc-link:hover span {\n",
              "  display: block;\n",
              "}\n",
              "\n",
              "/* \"?\"-specific style due to the `<a>` HTML tag */\n",
              "\n",
              "#sk-container-id-2 a.estimator_doc_link {\n",
              "  float: right;\n",
              "  font-size: 1rem;\n",
              "  line-height: 1em;\n",
              "  font-family: monospace;\n",
              "  background-color: var(--sklearn-color-background);\n",
              "  border-radius: 1rem;\n",
              "  height: 1rem;\n",
              "  width: 1rem;\n",
              "  text-decoration: none;\n",
              "  /* unfitted */\n",
              "  color: var(--sklearn-color-unfitted-level-1);\n",
              "  border: var(--sklearn-color-unfitted-level-1) 1pt solid;\n",
              "}\n",
              "\n",
              "#sk-container-id-2 a.estimator_doc_link.fitted {\n",
              "  /* fitted */\n",
              "  border: var(--sklearn-color-fitted-level-1) 1pt solid;\n",
              "  color: var(--sklearn-color-fitted-level-1);\n",
              "}\n",
              "\n",
              "/* On hover */\n",
              "#sk-container-id-2 a.estimator_doc_link:hover {\n",
              "  /* unfitted */\n",
              "  background-color: var(--sklearn-color-unfitted-level-3);\n",
              "  color: var(--sklearn-color-background);\n",
              "  text-decoration: none;\n",
              "}\n",
              "\n",
              "#sk-container-id-2 a.estimator_doc_link.fitted:hover {\n",
              "  /* fitted */\n",
              "  background-color: var(--sklearn-color-fitted-level-3);\n",
              "}\n",
              "</style><div id=\"sk-container-id-2\" class=\"sk-top-container\"><div class=\"sk-text-repr-fallback\"><pre>LogisticRegression(class_weight=&#x27;balanced&#x27;, max_iter=1000)</pre><b>In a Jupyter environment, please rerun this cell to show the HTML representation or trust the notebook. <br />On GitHub, the HTML representation is unable to render, please try loading this page with nbviewer.org.</b></div><div class=\"sk-container\" hidden><div class=\"sk-item\"><div class=\"sk-estimator fitted sk-toggleable\"><input class=\"sk-toggleable__control sk-hidden--visually\" id=\"sk-estimator-id-2\" type=\"checkbox\" checked><label for=\"sk-estimator-id-2\" class=\"sk-toggleable__label fitted sk-toggleable__label-arrow\"><div><div>LogisticRegression</div></div><div><a class=\"sk-estimator-doc-link fitted\" rel=\"noreferrer\" target=\"_blank\" href=\"https://scikit-learn.org/1.6/modules/generated/sklearn.linear_model.LogisticRegression.html\">?<span>Documentation for LogisticRegression</span></a><span class=\"sk-estimator-doc-link fitted\">i<span>Fitted</span></span></div></label><div class=\"sk-toggleable__content fitted\"><pre>LogisticRegression(class_weight=&#x27;balanced&#x27;, max_iter=1000)</pre></div> </div></div></div></div>"
            ]
          },
          "metadata": {},
          "execution_count": 25
        }
      ]
    },
    {
      "cell_type": "code",
      "source": [
        "# Predict on test set\n",
        "y_pred = model.predict(X_test)\n",
        "\n",
        "# Evaluate model\n",
        "print(\"Accuracy:\", accuracy_score(y_test, y_pred))\n",
        "print(\"\\nConfusion Matrix:\\n\", confusion_matrix(y_test, y_pred))\n",
        "print(\"\\nClassification Report:\\n\", classification_report(y_test, y_pred))"
      ],
      "metadata": {
        "id": "2Q0xS_U9HpmU",
        "colab": {
          "base_uri": "https://localhost:8080/"
        },
        "outputId": "ede683bb-c22a-4748-9c9d-2aa4a0124b22"
      },
      "execution_count": null,
      "outputs": [
        {
          "output_type": "stream",
          "name": "stdout",
          "text": [
            "Accuracy: 0.7715992135623401\n",
            "\n",
            "Confusion Matrix:\n",
            " [[39224 11786]\n",
            " [ 6685 23176]]\n",
            "\n",
            "Classification Report:\n",
            "               precision    recall  f1-score   support\n",
            "\n",
            "           0       0.85      0.77      0.81     51010\n",
            "           1       0.66      0.78      0.72     29861\n",
            "\n",
            "    accuracy                           0.77     80871\n",
            "   macro avg       0.76      0.77      0.76     80871\n",
            "weighted avg       0.78      0.77      0.77     80871\n",
            "\n"
          ]
        }
      ]
    },
    {
      "cell_type": "code",
      "source": [
        "# Assuming 'accuracy_score(y_test, y_pred)' from the previous code is stored in a variable\n",
        "accuracy = accuracy_score(y_test, y_pred)\n",
        "\n",
        "# Plotting the accuracy\n",
        "plt.figure(figsize=(8, 6))\n",
        "plt.bar(['Accuracy'], [accuracy])\n",
        "plt.ylim(0, 1)  # Set y-axis limit to 0-1 for accuracy\n",
        "plt.title('Model Accuracy')\n",
        "plt.ylabel('Accuracy')\n",
        "plt.show()\n"
      ],
      "metadata": {
        "colab": {
          "base_uri": "https://localhost:8080/",
          "height": 528
        },
        "id": "6Ns-LJPx-qla",
        "outputId": "decee6bd-2c59-49c7-ae10-73cd3b10fcfe"
      },
      "execution_count": null,
      "outputs": [
        {
          "output_type": "display_data",
          "data": {
            "text/plain": [
              "<Figure size 800x600 with 1 Axes>"
            ],
            "image/png": "[encoded data removed]"
          },
          "metadata": {}
        }
      ]
    },
    {
      "cell_type": "code",
      "source": [
        "from sklearn.linear_model import LinearRegression # Import LinearRegression\n",
        "\n",
        "model = LinearRegression() # Initialize the model\n",
        "model.fit(X_train, y_train) # Train the model\n",
        "\n",
        "# Predict on test set\n",
        "y_pred = model.predict(X_test)\n",
        "\n",
        "# Since Linear Regression predicts continuous values, we need to convert them to binary (0 or 1)\n",
        "y_pred_binary = [1 if pred >= 0.5 else 0 for pred in y_pred]\n",
        "\n",
        "# Evaluate model\n",
        "print(\"Accuracy:\", accuracy_score(y_test, y_pred_binary))\n",
        "print(\"\\nConfusion Matrix:\\n\", confusion_matrix(y_test, y_pred_binary))\n",
        "print(\"\\nClassification Report:\\n\", classification_report(y_test, y_pred_binary))"
      ],
      "metadata": {
        "colab": {
          "base_uri": "https://localhost:8080/"
        },
        "id": "EJYfMgvTjqxa",
        "outputId": "a6126e4b-1f28-4ffb-ed7e-4226de635e0b"
      },
      "execution_count": null,
      "outputs": [
        {
          "output_type": "stream",
          "name": "stdout",
          "text": [
            "Accuracy: 0.7752964597939929\n",
            "\n",
            "Confusion Matrix:\n",
            " [[43615  7395]\n",
            " [10777 19084]]\n",
            "\n",
            "Classification Report:\n",
            "               precision    recall  f1-score   support\n",
            "\n",
            "           0       0.80      0.86      0.83     51010\n",
            "           1       0.72      0.64      0.68     29861\n",
            "\n",
            "    accuracy                           0.78     80871\n",
            "   macro avg       0.76      0.75      0.75     80871\n",
            "weighted avg       0.77      0.78      0.77     80871\n",
            "\n"
          ]
        }
      ]
    },
    {
      "cell_type": "code",
      "source": [
        "from sklearn.ensemble import RandomForestClassifier\n",
        "from sklearn.model_selection import train_test_split\n",
        "from sklearn.metrics import accuracy_score, confusion_matrix, classification_report, ConfusionMatrixDisplay\n",
        "import matplotlib.pyplot as plt\n",
        "\n",
        "# Example: Replace this with your actual dataset\n",
        "# X = features, y = labels\n",
        "# For demonstration, assuming X and y are already prepared\n",
        "# X = df.drop('target', axis=1)\n",
        "# y = df['target']\n",
        "\n",
        "# Split dataset into training and test sets\n",
        "X_train, X_test, y_train, y_test = train_test_split(X, y, test_size=0.2, random_state=42)\n",
        "\n",
        "# Train Random Forest model\n",
        "model = RandomForestClassifier(n_estimators=100, random_state=42, class_weight='balanced')\n",
        "model.fit(X_train, y_train)\n",
        "\n",
        "# Predict on test set\n",
        "y_pred = model.predict(X_test)\n",
        "\n",
        "# Evaluation\n",
        "print(\"Accuracy:\", accuracy_score(y_test, y_pred))\n",
        "print(\"\\nConfusion Matrix:\\n\", confusion_matrix(y_test, y_pred))\n",
        "print(\"\\nClassification Report:\\n\", classification_report(y_test, y_pred))\n",
        "\n",
        "# Plot Confusion Matrix\n",
        "cm = confusion_matrix(y_test, y_pred)\n",
        "disp = ConfusionMatrixDisplay(confusion_matrix=cm)\n",
        "disp.plot(cmap=plt.cm.Blues)\n",
        "plt.title(\"Confusion Matrix - Random Forest\")\n",
        "plt.show()\n",
        "\n"
      ],
      "metadata": {
        "id": "gdkil4odCtFr",
        "colab": {
          "base_uri": "https://localhost:8080/",
          "height": 750
        },
        "outputId": "49aff346-2c20-4a87-c5c1-f5dc04300a19"
      },
      "execution_count": null,
      "outputs": [
        {
          "output_type": "stream",
          "name": "stdout",
          "text": [
            "Accuracy: 0.8258337352079237\n",
            "\n",
            "Confusion Matrix:\n",
            " [[44303  6695]\n",
            " [ 7390 22483]]\n",
            "\n",
            "Classification Report:\n",
            "               precision    recall  f1-score   support\n",
            "\n",
            "           0       0.86      0.87      0.86     50998\n",
            "           1       0.77      0.75      0.76     29873\n",
            "\n",
            "    accuracy                           0.83     80871\n",
            "   macro avg       0.81      0.81      0.81     80871\n",
            "weighted avg       0.83      0.83      0.83     80871\n",
            "\n"
          ]
        },
        {
          "output_type": "display_data",
          "data": {
            "text/plain": [
              "<Figure size 640x480 with 2 Axes>"
            ],
            "image/png": "[encoded data removed]"
          },
          "metadata": {}
        }
      ]
    },
    {
      "cell_type": "code",
      "source": [
        "from sklearn.metrics import roc_curve, auc\n",
        "\n",
        "y_prob = model.predict_proba(X_test)[:, 1]  # Probabilities for positive class\n",
        "fpr, tpr, _ = roc_curve(y_test, y_prob)\n",
        "roc_auc = auc(fpr, tpr)\n",
        "\n",
        "plt.figure()\n",
        "plt.plot(fpr, tpr, label=f'ROC curve (area = {roc_auc:.2f})')\n",
        "plt.plot([0, 1], [0, 1], 'k--')\n",
        "plt.xlabel('False Positive Rate')\n",
        "plt.ylabel('True Positive Rate')\n",
        "plt.title('ROC Curve')\n",
        "plt.legend()\n",
        "plt.show()\n",
        "\n"
      ],
      "metadata": {
        "colab": {
          "base_uri": "https://localhost:8080/",
          "height": 211
        },
        "id": "w4H4YbYk1eHo",
        "outputId": "7b9f4f1b-6fa1-44ba-917d-3aa3d206125b"
      },
      "execution_count": null,
      "outputs": [
        {
          "output_type": "error",
          "ename": "AttributeError",
          "evalue": "'LinearRegression' object has no attribute 'predict_proba'",
          "traceback": [
            "\u001b[0;31m---------------------------------------------------------------------------\u001b[0m",
            "\u001b[0;31mAttributeError\u001b[0m                            Traceback (most recent call last)",
            "\u001b[0;32m<ipython-input-31-57dc3f9145ff>\u001b[0m in \u001b[0;36m<cell line: 0>\u001b[0;34m()\u001b[0m\n\u001b[1;32m      1\u001b[0m \u001b[0;32mfrom\u001b[0m \u001b[0msklearn\u001b[0m\u001b[0;34m.\u001b[0m\u001b[0mmetrics\u001b[0m \u001b[0;32mimport\u001b[0m \u001b[0mroc_curve\u001b[0m\u001b[0;34m,\u001b[0m \u001b[0mauc\u001b[0m\u001b[0;34m\u001b[0m\u001b[0;34m\u001b[0m\u001b[0m\n\u001b[1;32m      2\u001b[0m \u001b[0;34m\u001b[0m\u001b[0m\n\u001b[0;32m----> 3\u001b[0;31m \u001b[0my_prob\u001b[0m \u001b[0;34m=\u001b[0m \u001b[0mmodel\u001b[0m\u001b[0;34m.\u001b[0m\u001b[0mpredict_proba\u001b[0m\u001b[0;34m(\u001b[0m\u001b[0mX_test\u001b[0m\u001b[0;34m)\u001b[0m\u001b[0;34m[\u001b[0m\u001b[0;34m:\u001b[0m\u001b[0;34m,\u001b[0m \u001b[0;36m1\u001b[0m\u001b[0;34m]\u001b[0m  \u001b[0;31m# Probabilities for positive class\u001b[0m\u001b[0;34m\u001b[0m\u001b[0;34m\u001b[0m\u001b[0m\n\u001b[0m\u001b[1;32m      4\u001b[0m \u001b[0mfpr\u001b[0m\u001b[0;34m,\u001b[0m \u001b[0mtpr\u001b[0m\u001b[0;34m,\u001b[0m \u001b[0m_\u001b[0m \u001b[0;34m=\u001b[0m \u001b[0mroc_curve\u001b[0m\u001b[0;34m(\u001b[0m\u001b[0my_test\u001b[0m\u001b[0;34m,\u001b[0m \u001b[0my_prob\u001b[0m\u001b[0;34m)\u001b[0m\u001b[0;34m\u001b[0m\u001b[0;34m\u001b[0m\u001b[0m\n\u001b[1;32m      5\u001b[0m \u001b[0mroc_auc\u001b[0m \u001b[0;34m=\u001b[0m \u001b[0mauc\u001b[0m\u001b[0;34m(\u001b[0m\u001b[0mfpr\u001b[0m\u001b[0;34m,\u001b[0m \u001b[0mtpr\u001b[0m\u001b[0;34m)\u001b[0m\u001b[0;34m\u001b[0m\u001b[0;34m\u001b[0m\u001b[0m\n",
            "\u001b[0;31mAttributeError\u001b[0m: 'LinearRegression' object has no attribute 'predict_proba'"
          ]
        }
      ]
    },
    {
      "cell_type": "code",
      "source": [
        "def predict_similarity(question1, question2):\n",
        "    # Preprocess the questions\n",
        "    q1_processed = preprocess_text(question1)\n",
        "    q2_processed = preprocess_text(question2)\n",
        "\n",
        "    # TF-IDF transformation\n",
        "    q1_tfidf = tfidf.transform([q1_processed])\n",
        "    q2_tfidf = tfidf.transform([q2_processed])\n",
        "\n",
        "    # Create features\n",
        "    word_count_q1 = len(q1_processed.split())\n",
        "    word_count_q2 = len(q2_processed.split())\n",
        "    word_count_diff = abs(word_count_q1 - word_count_q2)\n",
        "\n",
        "    common_words = len(set(q1_processed.split()) & set(q2_processed.split()))\n",
        "\n",
        "    jaccard_sim = common_words / len(set(q1_processed.split()) | set(q2_processed.split()))\n",
        "\n",
        "    # Combine features\n",
        "    features = hstack((q1_tfidf, q2_tfidf,\n",
        "                      np.array([word_count_diff]).reshape(-1, 1),\n",
        "                      np.array([common_words]).reshape(-1, 1),\n",
        "                      np.array([jaccard_sim]).reshape(-1, 1)))\n",
        "\n",
        "    # Predict\n",
        "    prediction = model.predict(features)[0]\n",
        "\n",
        "    return \"Similar\" if prediction == 1 else \"Not Similar\""
      ],
      "metadata": {
        "id": "OkuPNAzgHrR6"
      },
      "execution_count": null,
      "outputs": []
    },
    {
      "cell_type": "code",
      "source": [
        "# Example questions\n",
        "question1 = \"What is the capital of France?\"\n",
        "question2 = \"Which city is the capital of France?\"\n",
        "\n",
        "# Get prediction\n",
        "result = predict_similarity(question1, question2)\n",
        "print(f\"\\nQuestion 1: {question1}\")\n",
        "print(f\"Question 2: {question2}\")\n",
        "print(f\"Prediction: {result}\")\n",
        "\n",
        "# Another example\n",
        "question3 = \"How do I learn machine learning?\"\n",
        "question4 = \"What's the weather like today?\"\n",
        "\n",
        "result = predict_similarity(question3, question4)\n",
        "print(f\"\\nQuestion 1: {question3}\")\n",
        "print(f\"Question 2: {question4}\")\n",
        "print(f\"Prediction: {result}\")"
      ],
      "metadata": {
        "id": "rbynQ6VyHujl",
        "colab": {
          "base_uri": "https://localhost:8080/"
        },
        "outputId": "71c186a7-f43b-4f9f-9586-7cbbfe90414f"
      },
      "execution_count": null,
      "outputs": [
        {
          "output_type": "stream",
          "name": "stdout",
          "text": [
            "\n",
            "Question 1: What is the capital of France?\n",
            "Question 2: Which city is the capital of France?\n",
            "Prediction: Not Similar\n",
            "\n",
            "Question 1: How do I learn machine learning?\n",
            "Question 2: What's the weather like today?\n",
            "Prediction: Not Similar\n"
          ]
        }
      ]
    },
    {
      "cell_type": "code",
      "source": [
        "# Example questions that should be predicted as similar\n",
        "question5 = \"What are the best programming languages to learn?\"\n",
        "question6 = \"Which programming languages should I learn first?\"\n",
        "\n",
        "question7 = \"How do I become a data scientist?\"\n",
        "question8 = \"What is the path to becoming a data scientist?\"\n",
        "\n",
        "\n",
        "result = predict_similarity(question5, question6)\n",
        "print(f\"\\nQuestion 1: {question5}\")\n",
        "print(f\"Question 2: {question6}\")\n",
        "print(f\"Prediction: {result}\")\n",
        "\n",
        "result = predict_similarity(question7, question8)\n",
        "print(f\"\\nQuestion 1: {question7}\")\n",
        "print(f\"Question 2: {question8}\")\n",
        "print(f\"Prediction: {result}\")\n"
      ],
      "metadata": {
        "colab": {
          "base_uri": "https://localhost:8080/"
        },
        "id": "IE4GjT_uQkQx",
        "outputId": "1c81a840-8b92-4493-e0b7-d3684feb8f71"
      },
      "execution_count": null,
      "outputs": [
        {
          "output_type": "stream",
          "name": "stdout",
          "text": [
            "\n",
            "Question 1: What are the best programming languages to learn?\n",
            "Question 2: Which programming languages should I learn first?\n",
            "Prediction: Not Similar\n",
            "\n",
            "Question 1: How do I become a data scientist?\n",
            "Question 2: What is the path to becoming a data scientist?\n",
            "Prediction: Not Similar\n"
          ]
        }
      ]
    },
    {
      "cell_type": "code",
      "source": [
        "import matplotlib.pyplot as plt\n",
        "\n",
        "# Model names and their respective accuracies\n",
        "models = ['Logistic Regression', 'Linear Regression', 'Random Forest']\n",
        "accuracies = [0.7665, 0.7707, 0.8213]\n",
        "\n",
        "# Plotting the bar graph\n",
        "plt.figure(figsize=(10, 6))\n",
        "bars = plt.bar(models, accuracies, color=['skyblue', 'orange', 'green'])\n",
        "plt.ylim(0.7, 0.85)\n",
        "plt.ylabel('Accuracy')\n",
        "plt.title('Model Accuracy Comparison')\n",
        "\n",
        "# Adding accuracy labels on top of each bar\n",
        "for bar, acc in zip(bars, accuracies):\n",
        "    plt.text(bar.get_x() + bar.get_width() / 2, bar.get_height() + 0.005,\n",
        "             f'{acc:.2f}', ha='center', fontsize=12)\n",
        "\n",
        "plt.grid(axis='y', linestyle='--', alpha=0.7)\n",
        "plt.tight_layout()\n",
        "plt.show()\n"
      ],
      "metadata": {
        "colab": {
          "base_uri": "https://localhost:8080/",
          "height": 627
        },
        "id": "nnIHbxzMSoie",
        "outputId": "06570ab1-eee2-4fca-9c1b-4e5bf84ee91d"
      },
      "execution_count": null,
      "outputs": [
        {
          "output_type": "display_data",
          "data": {
            "text/plain": [
              "<Figure size 1000x600 with 1 Axes>"
            ],
            "image/png": "[encoded data removed]"
          },
          "metadata": {}
        }
      ]
    },
    {
      "cell_type": "code",
      "source": [
        "from sklearn.metrics import ConfusionMatrixDisplay\n",
        "import matplotlib.pyplot as plt\n",
        "\n",
        "# Plot the confusion matrix\n",
        "cm = confusion_matrix(y_test, y_pred_binary)\n",
        "disp = ConfusionMatrixDisplay(confusion_matrix=cm)\n",
        "disp.plot(cmap=plt.cm.Blues)\n",
        "plt.title(\"Confusion Matrix - Linear Regression (Thresholded at 0.5)\")\n",
        "plt.show()\n"
      ],
      "metadata": {
        "colab": {
          "base_uri": "https://localhost:8080/",
          "height": 472
        },
        "id": "95RB5rfWTGTA",
        "outputId": "7eecc3db-7d64-4f5e-d37e-d7185fb45d6f"
      },
      "execution_count": null,
      "outputs": [
        {
          "output_type": "display_data",
          "data": {
            "text/plain": [
              "<Figure size 640x480 with 2 Axes>"
            ],
            "image/png": "[encoded data removed]"
          },
          "metadata": {}
        }
      ]
    },
    {
      "cell_type": "code",
      "source": [
        "from sklearn.linear_model import LogisticRegression\n",
        "from sklearn.metrics import confusion_matrix, ConfusionMatrixDisplay, accuracy_score, classification_report\n",
        "import matplotlib.pyplot as plt\n",
        "\n",
        "# Train Logistic Regression\n",
        "model = LogisticRegression(class_weight='balanced', max_iter=1000)\n",
        "model.fit(X_train, y_train)\n",
        "\n",
        "# Predict\n",
        "y_pred = model.predict(X_test)\n",
        "\n",
        "# Evaluation Metrics\n",
        "print(\"Accuracy:\", accuracy_score(y_test, y_pred))\n",
        "print(\"\\nConfusion Matrix:\\n\", confusion_matrix(y_test, y_pred))\n",
        "print(\"\\nClassification Report:\\n\", classification_report(y_test, y_pred))\n",
        "\n",
        "# Confusion Matrix Plot\n",
        "cm = confusion_matrix(y_test, y_pred)\n",
        "disp = ConfusionMatrixDisplay(confusion_matrix=cm, display_labels=[\"Class 0\", \"Class 1\"])\n",
        "disp.plot(cmap=plt.cm.Blues)\n",
        "plt.title(\"Confusion Matrix - Logistic Regression\")\n",
        "plt.show()\n"
      ],
      "metadata": {
        "colab": {
          "base_uri": "https://localhost:8080/",
          "height": 750
        },
        "id": "ozX9Nu3nT59r",
        "outputId": "7a29a45a-8b66-4449-e7e6-c7372b0c1bca"
      },
      "execution_count": null,
      "outputs": [
        {
          "output_type": "stream",
          "name": "stdout",
          "text": [
            "Accuracy: 0.7715992135623401\n",
            "\n",
            "Confusion Matrix:\n",
            " [[39224 11786]\n",
            " [ 6685 23176]]\n",
            "\n",
            "Classification Report:\n",
            "               precision    recall  f1-score   support\n",
            "\n",
            "           0       0.85      0.77      0.81     51010\n",
            "           1       0.66      0.78      0.72     29861\n",
            "\n",
            "    accuracy                           0.77     80871\n",
            "   macro avg       0.76      0.77      0.76     80871\n",
            "weighted avg       0.78      0.77      0.77     80871\n",
            "\n"
          ]
        },
        {
          "output_type": "display_data",
          "data": {
            "text/plain": [
              "<Figure size 640x480 with 2 Axes>"
            ],
            "image/png": "[encoded data removed]"
          },
          "metadata": {}
        }
      ]
    }
  ]
}